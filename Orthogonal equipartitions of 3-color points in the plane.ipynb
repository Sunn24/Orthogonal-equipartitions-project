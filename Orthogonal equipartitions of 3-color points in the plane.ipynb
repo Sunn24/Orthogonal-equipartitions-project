{
  "cells": [
    {
      "cell_type": "markdown",
      "metadata": {
        "id": "view-in-github",
        "colab_type": "text"
      },
      "source": [
        "<a href=\"https://colab.research.google.com/github/Sunn24/Orthogonal-equipartitions-project/blob/main/Orthogonal%20equipartitions%20of%203-color%20points%20in%20the%20plane.ipynb\" target=\"_parent\"><img src=\"https://colab.research.google.com/assets/colab-badge.svg\" alt=\"Open In Colab\"/></a>"
      ]
    },
    {
      "cell_type": "markdown",
      "source": [
        "# <font color=#0000B0>Partition to $2$ regions of $n$ - color points</font>\n",
        "\n",
        "<!-- **<font color=\"OrangeRed\">Algorithm :</font>**\n",
        "* a\n",
        "* b -->"
      ],
      "metadata": {
        "id": "5nZUiaJOX8G7"
      }
    },
    {
      "cell_type": "markdown",
      "source": [
        
        "## <font color=#2a9df4>Introduction</font>"
      ],
      "metadata": {
        "id": "guf56b-sAXDV"
      }
    },
    {
      "cell_type": "code",
      "source": [
        "import time\n",
        "import math\n",
        "import numpy as np\n",
        "import matplotlib.pyplot as plt\n",
        "from matplotlib.lines import Line2D\n",
        "from matplotlib.patches import Patch\n",
        "from matplotlib.patches import Rectangle"
      ],
      "metadata": {
        "id": "NLso9oTyagEM"
      },
      "execution_count": null,
      "outputs": []
    },
    {
      "cell_type": "markdown",
      "source": [
        "### <font color=#f17a3d>Random points</font>"
      ],
      "metadata": {
        "id": "SXOtDNvOAQbo"
      }
    },
    {
      "cell_type": "code",
      "source": [
        "def Arbitrary_random(n,k):\n",
        "  points=[[] for element in range(k)]\n",
        "  for i in range(n):\n",
        "    for j in range(n):\n",
        "      c=np.random.choice(k+1, 1, p=[k/(k**2+1)]*k+[1/(k**2+1)]).item()\n",
        "      if c==k:\n",
        "        continue\n",
        "      else:\n",
        "        points[c].append((i,j))\n",
        "  return points\n",
        "\n",
        "def Collinear_random(n,k):\n",
        "  c=[]\n",
        "  for i in range(2):\n",
        "    a=np.random.permutation(n)\n",
        "    b=np.random.permutation(n)\n",
        "    c.append(np.concatenate((a, b), axis=None).tolist())\n",
        "  d=list(set(zip(c[0],c[1])))\n",
        "  points=[[] for element in range(k)]\n",
        "  for i,j in d:\n",
        "    c=np.random.choice(k+1, 1, p=[k/(k**2+1)]*k+[1/(k**2+1)]).item()\n",
        "    if c==k:\n",
        "      continue\n",
        "    else:\n",
        "      points[c].append((i,j))\n",
        "  return points\n",
        "\n",
        "def Collinear_random_np(n,k):\n",
        "  c=np.unique(np.floor_divide(np.stack((np.random.permutation(2*n), np.random.permutation(2*n)), axis=-1),2),axis=0)\n",
        "  e=np.random.choice(k+1, len(c), p=[k/(k**2+1)]*k+[1/(k**2+1)])\n",
        "  points=np.insert(c,2,e,axis=1)\n",
        "  return points"
      ],
      "metadata": {
        "id": "Ce87BLIPAdyc"
      },
      "execution_count": null,
      "outputs": []
    },
    {
      "cell_type": "markdown",
      "source": [
        "### <font color=#f17a3d>Plotting in plane</font>"
      ],
      "metadata": {
        "id": "5An3tXGQAjBD"
      }
    },
    {
      "cell_type": "code",
      "source": [
        "def plotting(points,k):\n",
        "  color=['go','bo','ro','co','mo','yo','ko']\n",
        "  for n in range(len(points)):\n",
        "    for i,j in points[n]:\n",
        "      # ax.plot(i,j,color[n],markersize=0.5)\n",
        "      ax.plot(i,j,color[n],markersize=2)\n",
        "  return points\n",
        "\n",
        "def plotting_np(points,k):\n",
        "  color=['go','bo','ro','co','mo','yo','ko']\n",
        "  for x,y,z in points:\n",
        "    if z==k:\n",
        "      continue\n",
        "    ax.plot(x,y,color[z],markersize=1)\n",
        "  return points[points[:,2]<k]"
      ],
      "metadata": {
        "id": "bya6Nzl1Aub2"
      },
      "execution_count": null,
      "outputs": []
    },
    {
      "cell_type": "markdown",
      "source": [
        "## <font color=#2a9df4>Algorithm</font>"
      ],
      "metadata": {
        "id": "4Fm5Vaf5AoHf"
      }
    },
    {
      "cell_type": "markdown",
      "source": [
        "### <font color=#f17a3d>3 Vertical lines and 2 Horizontal lines</font>"
      ],
      "metadata": {
        "id": "V_7Mdc_ABFYl"
      }
    },
    {
      "cell_type": "code",
      "source": [
        "def threeverticalpartitions(setlist,n):\n",
        "  colors=['green','blue','red','cyan','magenta','yellow','black']\n",
        "  ####### Y-Axis #######\n",
        "  ax.set_title(str(n)+'-colors with 3 vertical segments and 2 Horizontal segments', fontsize=10)\n",
        "  points=np.zeros([n,num_points+1,num_points+1],dtype=int) ##[color][y][x] initial at [*][n+1][-1]\n",
        "  for i,j,k in setlist:\n",
        "    points[k][num_points-j]=np.add(points[k][num_points-j],[0]*(i+1)+[1]*(num_points-i))\n",
        "  sumpoint=np.array(np.sum(points,axis=1))\n",
        "  for i in range(len(sumpoint[0])):\n",
        "    if all(sumpoint[:,i]>=np.floor(sumpoint[:,-1]/2)):\n",
        "      ax.axvline(x=i-0.6,color = 'r', linestyle = '--', linewidth=1, alpha=0.5)\n",
        "      mainindex=i\n",
        "      break\n",
        "\n",
        "  ## right-side box ##\n",
        "  legend_elements= [Line2D([0], [0], marker='o', color='w', label=sumpoint[j][-1] ,markerfacecolor=colors[j], markersize=5) for j in range(n)]\n",
        "  legend_elements+= [Line2D([0], [0], marker='o', color='w', label=int(abs(sumpoint[j][mainindex]-(sumpoint[j][-1]/2))) ,markerfacecolor=colors[j], markersize=5) if abs(sumpoint[j][mainindex]-(sumpoint[j][-1]/2))==int(abs(sumpoint[j][mainindex]-(sumpoint[j][-1]/2))) else Line2D([0], [0], marker='o', color='w', label=str(int(abs(sumpoint[j][mainindex]-(sumpoint[j][-1]/2))))+u\"\\u00B1\"+str(0.5),markerfacecolor=colors[j], markersize=5) for j in range(n)]\n",
        "  leg1=ax.legend(handles=legend_elements,\n",
        "      loc='center left',\n",
        "      bbox_to_anchor=(1.01, 0.5),\n",
        "      ncol=2,\n",
        "      fancybox=True,\n",
        "      shadow=True,\n",
        "      title='Number of points'\n",
        "  )\n",
        "  copypoint=points\n",
        "  for index in range(mainindex,len(points[0])):\n",
        "    if np.all(abs(sumpoint[:,-1]/2-sumpoint[:,index])<=0.5):\n",
        "      return True\n",
        "    points=np.subtract(points,np.transpose(np.array([points[:,:,index]]),(1,2,0)))\n",
        "    for i in range(index-1,-1,-1): #แนวนอน\n",
        "      for j in range(len(points[0])): #แนวตั้ง\n",
        "        for l in range(j-1,-1,-1):\n",
        "          minus=np.sum(np.array([points[:,l:j,i]]),axis=2) # ลบจำนวนในแต่ละสี\n",
        "          if np.any(abs(sumpoint[:,-1]/2-sumpoint[:,index])+minus[0][:]<=-1):\n",
        "            break\n",
        "          if np.all(abs(sumpoint[:,-1]/2-sumpoint[:,index]-minus[0][:])<=0.5):\n",
        "            ax.plot([index-0.6,index-0.6,i-0.4,i-0.4,index-0.6,index-0.6],[-1,len(points[0])-j-0.4,len(points[0])-j-0.4,len(points[0])-l-0.4,len(points[0])-l-0.4,len(points[0])] ,color = 'k', linestyle = '-', linewidth=0.4, alpha=1)\n",
        "            return True\n",
        "      for j in range(len(points[0])): #แนวตั้ง\n",
        "        for l in range(j-1,-1,-1):\n",
        "          minus=np.add(np.sum(np.array([points[:,0:l,i]]),axis=2),np.sum(np.array([points[:,j:num_points+1,i]]),axis=2))\n",
        "          if np.any(abs(sumpoint[:,-1]/2-sumpoint[:,index])+minus[0][:]<=-1):\n",
        "            break\n",
        "          if np.all(abs(sumpoint[:,-1]/2-sumpoint[:,index]-minus[0][:])<=0.5):\n",
        "            ax.plot([i-0.4,i-0.4,index-0.6,index-0.6,i-0.4,i-0.4],[-1,len(points[0])-j-0.4,len(points[0])-j-0.4,len(points[0])-l-0.4,len(points[0])-l-0.4,len(points[0])] ,color = 'k', linestyle = '-', linewidth=0.4, alpha=1)\n",
        "            return True\n",
        "      if i==0:\n",
        "        points=copypoint\n",
        "\n",
        "  ####### X-Axis #######\n",
        "  ax.set_title(str(n)+'-colors with 2 vertical segments and 3 Horizontal segments', fontsize=10)\n",
        "  leg1=ax.legend(handles=legend_elements,\n",
        "      loc='upper left',\n",
        "      bbox_to_anchor=(1.01, 1),\n",
        "      ncol=2,\n",
        "      fancybox=True,\n",
        "      shadow=True,\n",
        "      title='Number of points'\n",
        "  )\n",
        "  points=np.zeros([n,num_points+1,num_points+1],dtype=int) ##[color][y][x] initial at [*][n+1][-1]\n",
        "  for j,i,k in setlist:\n",
        "    points[k][num_points-j]=np.add(points[k][num_points-j],[0]*(i+1)+[1]*(num_points-i))\n",
        "  sumpoint=np.array([np.sum(points[i],axis=0) for i in range(n)])\n",
        "  for i in range(len(sumpoint[0])):\n",
        "    if all(sumpoint[:,i]>=np.floor(sumpoint[:,-1]/2)):\n",
        "      ax.axhline(y=i-0.6,color = 'r', linestyle = '--', linewidth=1, alpha=0.5)\n",
        "      mainindex=i\n",
        "      break\n",
        "  ## right-side box ##\n",
        "  legend_elements= [Line2D([0], [0], marker='o', color='w', label=sumpoint[j][-1] ,markerfacecolor=colors[j], markersize=5) for j in range(n)]\n",
        "  legend_elements+= [Line2D([0], [0], marker='o', color='w', label=int(abs(sumpoint[j][mainindex]-(sumpoint[j][-1]/2))) ,markerfacecolor=colors[j], markersize=5) if abs(sumpoint[j][mainindex]-(sumpoint[j][-1]/2))==int(abs(sumpoint[j][mainindex]-(sumpoint[j][-1]/2))) else Line2D([0], [0], marker='o', color='w', label=str(int(abs(sumpoint[j][mainindex]-(sumpoint[j][-1]/2))))+u\"\\u00B1\"+str(0.5),markerfacecolor=colors[j], markersize=5) for j in range(n)]\n",
        "  leg2=ax.legend(handles=legend_elements,\n",
        "      loc='lower left',\n",
        "      bbox_to_anchor=(1.01, 0),\n",
        "      ncol=2,\n",
        "      fancybox=True,\n",
        "      shadow=True,\n",
        "      title='Number of points\\n with Horizontal line'\n",
        "  )\n",
        "  plt.setp(leg2.get_title(), multialignment='center')\n",
        "  ax.add_artist(leg1)\n",
        "  copypoint=points\n",
        "  for index in range(mainindex,len(points[0])):\n",
        "    points=np.subtract(points,np.transpose(np.array([points[:,:,index]]),(1,2,0)))\n",
        "    if np.all(abs(sumpoint[:,-1]/2-sumpoint[:,index])<=0.5):\n",
        "      return True\n",
        "    for i in range(index-1,-1,-1): #แนวนอน\n",
        "      for j in range(len(points[0])): #แนวตั้ง\n",
        "        for l in range(j-1,-1,-1):\n",
        "          minus=np.sum(np.array([points[:,l:j,i]]),axis=2)\n",
        "          if np.any(abs(sumpoint[:,-1]/2-sumpoint[:,index])+minus[0][:]<=-1):\n",
        "            break\n",
        "          if np.all(abs(sumpoint[:,-1]/2-sumpoint[:,index]-minus[0][:])<=0.5):\n",
        "            ax.plot([-1,len(points[0])-j-0.4,len(points[0])-j-0.4,len(points[0])-l-0.4,len(points[0])-l-0.4,len(points[0])],[index-0.6,index-0.6,i-0.4,i-0.4,index-0.6,index-0.6] ,color = 'k', linestyle = '-', linewidth=0.4, alpha=1)\n",
        "            return True\n",
        "      for j in range(len(points[0])): #แนวตั้ง\n",
        "        for l in range(j-1,-1,-1):\n",
        "          minus=np.add(np.sum(np.array([points[:,0:l,i]]),axis=2),np.sum(np.array([points[:,j:num_points+1,i]]),axis=2))\n",
        "          if np.any(abs(sumpoint[:,-1]/2-sumpoint[:,index])+minus[0][:]<=-1):\n",
        "            break\n",
        "          if np.all(abs(sumpoint[:,-1]/2-sumpoint[:,index]-minus[0][:])<=0.5):\n",
        "            ax.plot([-1,len(points[0])-j-0.4,len(points[0])-j-0.4,len(points[0])-l-0.4,len(points[0])-l-0.4,len(points[0])],[i-0.4,i-0.4,index-0.6,index-0.6,i-0.4,i-0.4] ,color = 'k', linestyle = '-', linewidth=0.4, alpha=1)\n",
        "            return True\n",
        "      if i==0:\n",
        "        points=copypoint\n",
        "  fig.patch.set_facecolor(\"xkcd:light rose\")\n",
        "  failure.append(setlist)\n",
        "  return False"
      ],
      "metadata": {
        "id": "1U4sA4ppYBSX"
      },
      "execution_count": null,
      "outputs": []
    },
    {
      "cell_type": "markdown",
      "source": [
        "### <font color=#f17a3d>2 Vertical lines and 1 Horizonal line</font>"
      ],
      "metadata": {
        "id": "lcWWAcPYBrH-"
      }
    },
    {
      "cell_type": "code",
      "source": [
        "def twoverticalpartitions(setlist,n):\n",
        "  colors=['green','blue','red','cyan','magenta','yellow','black']\n",
        "  ####### Y Axis #######\n",
        "  ax.set_title(str(n)+'-colors with 2 vertical segments and 1 Horizontal segments', fontsize=10)\n",
        "  points=np.zeros([n,num_points+1,num_points+1],dtype=int) ##[color][y][x] initial at [*][n+1][-1]\n",
        "  for i,j,k in setlist:\n",
        "    points[k][num_points-j]=np.add(points[k][num_points-j],[0]*(i+1)+[1]*(num_points-i))\n",
        "  sumpoint=np.array([np.sum(points[i],axis=0) for i in range(n)])\n",
        "  for i in range(len(sumpoint[0])):\n",
        "    if all([sumpoint[j][i]>=math.floor(sumpoint[j][-1]/2) for j in range(len(sumpoint))]):\n",
        "      ax.axvline(x=i-0.6,color = 'r', linestyle = '--', linewidth=1, alpha=0.5)\n",
        "      mainindex=i\n",
        "      legend_elements= [Line2D([0], [0], marker='o', color='w', label=sumpoint[j][-1] ,markerfacecolor=colors[j], markersize=5) for j in range(n)]\n",
        "      legend_elements+= [Line2D([0], [0], marker='o', color='w', label=int(abs(sumpoint[j][i]-(sumpoint[j][-1]/2))) ,markerfacecolor=colors[j], markersize=5) if abs(sumpoint[j][i]-(sumpoint[j][-1]/2))==int(abs(sumpoint[j][i]-(sumpoint[j][-1]/2))) else Line2D([0], [0], marker='o', color='w', label=str(int(abs(sumpoint[j][i]-(sumpoint[j][-1]/2))))+u\"\\u00B1\"+str(0.5),markerfacecolor=colors[j], markersize=5) for j in range(n)]\n",
        "      leg1=ax.legend(handles=legend_elements,\n",
        "          loc='center left',\n",
        "          bbox_to_anchor=(1.01, 0.5),\n",
        "          ncol=2,\n",
        "          fancybox=True,\n",
        "          shadow=True,\n",
        "          title='Number of points'\n",
        "      )\n",
        "      break\n",
        "  copypoint=points\n",
        "  for index in range(mainindex,len(points[0])):\n",
        "    points=np.subtract(points,np.transpose(np.array([points[:,:,index]]),(1,2,0)))\n",
        "    if all([abs(sumpoint[j][-1]/2-sumpoint[j][index])<=0.5 for j in range(len(sumpoint))]):\n",
        "      return True\n",
        "    for i in range(index-1,-1,-1): #แนวนอน\n",
        "      for j in range(len(points[0])): #แนวตั้ง\n",
        "        minus=np.sum(np.array([points[:,:j,i]]),axis=2)\n",
        "        if np.all([abs(sumpoint[m][-1]/2-sumpoint[m][index]-minus[0][m])<=0.5 for m in range(len(sumpoint))]):\n",
        "          ax.plot([index-0.6,index-0.6],[-1,len(points[0])-j-0.4] ,color = 'k', linestyle = '-', linewidth=0.5)\n",
        "          ax.plot([index-0.6,i-0.4],[len(points[0])-j-0.4,len(points[0])-j-0.4] ,color = 'k', linestyle = '-', linewidth=0.5)\n",
        "          ax.plot([i-0.4,i-0.4],[len(points[0])-j-0.4,len(points[0])] ,color = 'k', linestyle = '-', linewidth=0.5)\n",
        "          return True\n",
        "        minus=np.sum(np.array([points[:,j:,i]]),axis=2)\n",
        "        if np.all([abs(sumpoint[m][-1]/2-sumpoint[m][index]-minus[0][m])<=0.5 for m in range(len(sumpoint))]):\n",
        "          ax.plot([i-0.4,i-0.4],[-1,len(points[0])-j-0.4] ,color = 'k', linestyle = '-', linewidth=0.5)\n",
        "          ax.plot([index-0.6,i-0.4],[len(points[0])-j-0.4,len(points[0])-j-0.4] ,color = 'k', linestyle = '-', linewidth=0.5)\n",
        "          ax.plot([index-0.6,index-0.6],[len(points[0])-j-0.4,len(points[0])] ,color = 'k', linestyle = '-', linewidth=0.5)\n",
        "          return True\n",
        "      if i==0:\n",
        "        points=copypoint\n",
        "\n",
        "  ####### X Axis #######\n",
        "  ax.set_title(str(n)+'-colors with 1 vertical segments and 2 Horizontal segments', fontsize=10)\n",
        "  leg1=ax.legend(handles=legend_elements,\n",
        "      loc='upper left',\n",
        "      bbox_to_anchor=(1.01, 1),\n",
        "      ncol=2,\n",
        "      fancybox=True,\n",
        "      shadow=True,\n",
        "      title='Number of points'\n",
        "  )\n",
        "  points=np.zeros([n,num_points+1,num_points+1],dtype=int) ##[color][y][x] initial at [*][n+1][-1]\n",
        "  for j,i,k in setlist:\n",
        "    points[k][num_points-j]=np.add(points[k][num_points-j],[0]*(i+1)+[1]*(num_points-i))\n",
        "  sumpoint=np.array([np.sum(points[i],axis=0) for i in range(n)])\n",
        "  for i in range(len(sumpoint[0])):\n",
        "    if all([sumpoint[j][i]>=math.floor(sumpoint[j][-1]/2) for j in range(len(sumpoint))]):\n",
        "      ax.axhline(y=i-0.6,color = 'r', linestyle = '--', linewidth=1, alpha=0.5)\n",
        "      mainindex=i\n",
        "      legend_elements= [Line2D([0], [0], marker='o', color='w', label=sumpoint[j][-1] ,markerfacecolor=colors[j], markersize=5) for j in range(n)]\n",
        "      legend_elements+= [Line2D([0], [0], marker='o', color='w', label=int(abs(sumpoint[j][i]-(sumpoint[j][-1]/2))) ,markerfacecolor=colors[j], markersize=5) if abs(sumpoint[j][i]-(sumpoint[j][-1]/2))==int(abs(sumpoint[j][i]-(sumpoint[j][-1]/2))) else Line2D([0], [0], marker='o', color='w', label=str(int(abs(sumpoint[j][i]-(sumpoint[j][-1]/2))))+u\"\\u00B1\"+str(0.5),markerfacecolor=colors[j], markersize=5) for j in range(n)]\n",
        "      leg2=ax.legend(handles=legend_elements,\n",
        "          loc='lower left',\n",
        "          bbox_to_anchor=(1.01, 0),\n",
        "          ncol=2,\n",
        "          fancybox=True,\n",
        "          shadow=True,\n",
        "          title='Number of points\\n with Horizontal line'\n",
        "      )\n",
        "      plt.setp(leg2.get_title(), multialignment='center')\n",
        "      ax.add_artist(leg1)\n",
        "      break\n",
        "  copypoint=points\n",
        "  for index in range(mainindex,len(points[0])):\n",
        "    points=np.subtract(points,np.transpose(np.array([points[:,:,index]]),(1,2,0)))\n",
        "    if all([abs(sumpoint[j][-1]/2-sumpoint[j][index])<=0.5 for j in range(len(sumpoint))]):\n",
        "      return True\n",
        "    for i in range(index-1,-1,-1): #แนวนอน\n",
        "      for j in range(len(points[0])): #แนวตั้ง\n",
        "        minus=np.sum(np.array([points[:,:j,i]]),axis=2)\n",
        "        if np.all([abs(sumpoint[m][-1]/2-sumpoint[m][index]-minus[0][m])<=0.5 for m in range(len(sumpoint))]):\n",
        "          ax.plot([-1,len(points[0])-j-0.4],[index-0.6,index-0.6] ,color = 'k', linestyle = '-', linewidth=0.5)\n",
        "          ax.plot([len(points[0])-j-0.4,len(points[0])-j-0.4],[index-0.6,i-0.4] ,color = 'k', linestyle = '-', linewidth=0.5)\n",
        "          ax.plot([len(points[0])-j-0.4,len(points[0])],[i-0.4,i-0.4] ,color = 'k', linestyle = '-', linewidth=0.5)\n",
        "          return True\n",
        "        minus=np.sum(np.array([points[:,j:,i]]),axis=2)\n",
        "        if np.all([abs(sumpoint[m][-1]/2-sumpoint[m][index]-minus[0][m])<=0.5 for m in range(len(sumpoint))]):\n",
        "          ax.plot([-1,len(points[0])-j-0.4],[i-0.4,i-0.4] ,color = 'k', linestyle = '-', linewidth=0.5)\n",
        "          ax.plot([len(points[0])-j-0.4,len(points[0])-j-0.4],[index-0.6,i-0.4] ,color = 'k', linestyle = '-', linewidth=0.5)\n",
        "          ax.plot([len(points[0])-j-0.4,len(points[0])],[index-0.6,index-0.6] ,color = 'k', linestyle = '-', linewidth=0.5)\n",
        "          return True\n",
        "      if i==0:\n",
        "        points=copypoint\n",
        "  fig.patch.set_facecolor(\"xkcd:light rose\")\n",
        "  failure.append(setlist)\n",
        "  return False"
      ],
      "metadata": {
        "id": "Bs1cbOU7BzJG"
      },
      "execution_count": null,
      "outputs": []
    },
    {
      "cell_type": "markdown",
      "source": [
        "## <font color=#2a9df4>Results</font>"
      ],
      "metadata": {
        "id": "9xkowRFiBGjV"
      }
    },
    {
      "cell_type": "code",
      "source": [
        "failure=[]"
      ],
      "metadata": {
        "id": "Wi-7yCm5vxJn"
      },
      "execution_count": null,
      "outputs": []
    },
    {
      "cell_type": "code",
      "source": [
        "start=time.time()\n",
        "num_points=50\n",
        "coloring=3\n",
        "fig = plt.figure()\n",
        "ax = fig.add_subplot(1, 1, 1)\n",
        "ax.set_xlim([-1, num_points+1])\n",
        "ax.set_ylim([-1, num_points+1])\n",
        "major_ticks = np.arange(0, num_points+1, math.floor(num_points/2))\n",
        "minor_ticks = np.arange(0, num_points+1, math.floor(num_points/10))\n",
        "ax.set_xticks(major_ticks)\n",
        "ax.set_xticks(minor_ticks, minor=True)\n",
        "ax.set_yticks(major_ticks)\n",
        "ax.set_yticks(minor_ticks, minor=True)\n",
        "ax.grid(which='both', alpha=0.3)\n",
        "# ax.grid(which='minor', alpha=0.2)\n",
        "# ax.grid(which='major', alpha=0.2)\n",
        "\n",
        "randompoint=Collinear_random_np(num_points,coloring)\n",
        "print(twoverticalpartitions(plotting_np(randompoint,coloring),coloring))\n",
        "end=time.time()\n",
        "print(end-start)\n",
        "plt.show()"
      ],
      "metadata": {
        "colab": {
          "base_uri": "https://localhost:8080/",
          "height": 484
        },
        "id": "S4_ZQntSstNB",
        "outputId": "6330173f-eb29-49e7-e05e-2153d324a4b3"
      },
      "execution_count": null,
      "outputs": [
        {
          "output_type": "stream",
          "name": "stdout",
          "text": [
            "True\n",
            "0.20224499702453613\n"
          ]
        },
        {
          "output_type": "display_data",
          "data": {
            "text/plain": [
              "<Figure size 640x480 with 1 Axes>"
            ],
            "image/png": "[encoded data removed]"
          },
          "metadata": {}
        }
      ]
    },
    {
      "cell_type": "code",
      "source": [
        "start=time.time()\n",
        "num_points=100\n",
        "coloring=3\n",
        "fig = plt.figure()\n",
        "ax = fig.add_subplot(1, 1, 1)\n",
        "ax.set_xlim([-1, num_points+1])\n",
        "ax.set_ylim([-1, num_points+1])\n",
        "major_ticks = np.arange(0, num_points+1, math.floor(num_points/2))\n",
        "minor_ticks = np.arange(0, num_points+1, math.floor(num_points/10))\n",
        "ax.set_xticks(major_ticks)\n",
        "ax.set_xticks(minor_ticks, minor=True)\n",
        "ax.set_yticks(major_ticks)\n",
        "ax.set_yticks(minor_ticks, minor=True)\n",
        "ax.grid(which='both', alpha=0.3)\n",
        "# ax.grid(which='minor', alpha=0.2)\n",
        "# ax.grid(which='major', alpha=0.2)\n",
        "\n",
        "randompoint=Collinear_random_np(num_points,coloring)\n",
        "print(threeverticalpartitions(plotting_np(randompoint,coloring),coloring))\n",
        "end=time.time()\n",
        "print(end-start)\n",
        "plt.show()"
      ],
      "metadata": {
        "colab": {
          "base_uri": "https://localhost:8080/",
          "height": 484
        },
        "id": "iPWu-xPhBn2i",
        "outputId": "1e562d5e-ca39-4665-f892-369ef17d3e29"
      },
      "execution_count": null,
      "outputs": [
        {
          "output_type": "stream",
          "name": "stdout",
          "text": [
            "True\n",
            "90.17323732376099\n"
          ]
        },
        {
          "output_type": "display_data",
          "data": {
            "text/plain": [
              "<Figure size 640x480 with 1 Axes>"
            ],
            "image/png": "[encoded data removed]"
          },
          "metadata": {}
        }
      ]
    },
    {
      "cell_type": "markdown",
      "source": [
        "## Link to <a href=\"https://drive.google.com/drive/u/0/folders/1zYp89k3ZyQSCTqQ0mTaTcRB2sBa0tiuq\">Google Drive</a>"
      ],
      "metadata": {
        "id": "b-GI2hl6OcJo"
      }
    },
    {
      "cell_type": "code",
      "source": [
        "from google.colab import drive\n",
        "drive.mount('/content/drive')"
      ],
      "metadata": {
        "id": "QN5wM_SibZQH",
        "colab": {
          "base_uri": "https://localhost:8080/"
        },
        "outputId": "653cc287-8ce4-40d3-d2cd-1496afe596f5"
      },
      "execution_count": null,
      "outputs": [
        {
          "output_type": "stream",
          "name": "stdout",
          "text": [
            "Drive already mounted at /content/drive; to attempt to forcibly remount, call drive.mount(\"/content/drive\", force_remount=True).\n"
          ]
        }
      ]
    },
    {
      "cell_type": "code",
      "source": [
        "files= \"/content/drive/MyDrive/Senior Project Drive\""
      ],
      "metadata": {
        "id": "2YNQxHm3eE5E"
      },
      "execution_count": null,
      "outputs": []
    },
    {
      "cell_type": "code",
      "source": [
        "failure=[]\n",
        "listofresult=[]"
      ],
      "metadata": {
        "id": "Yq7bPtyDR9G6"
      },
      "execution_count": null,
      "outputs": []
    },
    {
      "cell_type": "code",
      "source": [
        "### For delete specific file\n",
        "#  !rm '/content/drive/MyDrive/Senior Project Drive/3-colors 20points using 3Vertical and 2Horizontal/True 3colors20x20_pic1.png'"
      ],
      "metadata": {
        "id": "sx0tWUohOBxv"
      },
      "execution_count": null,
      "outputs": []
    },
    {
      "cell_type": "code",
      "source": [
        "### For delete all files in folder\n",
        "import os\n",
        "path = \"/content/drive/MyDrive/Senior Project Drive/3-colors 100points using 2Vertical and 1Horizontal/\"\n",
        "for file in os.listdir(path):\n",
        "    os.remove(path+file)"
      ],
      "metadata": {
        "id": "8b4sks5jPLJf"
      },
      "execution_count": null,
      "outputs": []
    },
    {
      "cell_type": "code",
      "source": [
        "num_points=50\n",
        "coloring=3\n",
        "num_example=1000\n",
        "# savefiles=\"/content/drive/MyDrive/Senior Project Drive/3-colors 50points using 3Vertical and 2Horizontal\"\n",
        "# savefiles=\"/content/drive/MyDrive/Senior Project Drive/5-colors 100points using 3Vertical and 2Horizontal\"\n",
        "for x in range(1,num_example+1):\n",
        "# for x in range(21,101):\n",
        "  fig = plt.figure()\n",
        "  ax = fig.add_subplot(1, 1, 1)\n",
        "  ax.set_xlim([-1, num_points+1])\n",
        "  ax.set_ylim([-1, num_points+1])\n",
        "  major_ticks = np.arange(0, num_points+1, math.floor(num_points/2))\n",
        "  minor_ticks = np.arange(0, num_points+1, math.floor(num_points/10))\n",
        "  ax.set_xticks(major_ticks)\n",
        "  ax.set_xticks(minor_ticks, minor=True)\n",
        "  ax.set_yticks(major_ticks)\n",
        "  ax.set_yticks(minor_ticks, minor=True)\n",
        "  ax.grid(which='both', alpha=0.3)\n",
        "  # ax.grid(which='minor', alpha=0.2)\n",
        "  # ax.grid(which='major', alpha=0.2)\n",
        "  randompoint=Collinear_random_np(num_points,coloring)\n",
        "  result=threeverticalpartitions(plotting_np(randompoint,coloring),coloring)\n",
        "  listofresult.append(result)\n",
        "  # plt.savefig(f\"{savefiles}/{result} {coloring}colors{num_points}x{num_points}_pic{x}.png\", bbox_inches='tight',dpi=120)\n",
        "  plt.close()"
      ],
      "metadata": {
        "id": "fNTaoPIpizzB"
      },
      "execution_count": null,
      "outputs": []
    },
    {
      "cell_type": "code",
      "source": [
        "all(listofresult)"
      ],
      "metadata": {
        "colab": {
          "base_uri": "https://localhost:8080/"
        },
        "id": "ABAqut9GVtKp",
        "outputId": "1345855c-fae7-4603-d2eb-695f3eff1114"
      },
      "execution_count": null,
      "outputs": [
        {
          "output_type": "execute_result",
          "data": {
            "text/plain": [
              "False"
            ]
          },
          "metadata": {},
          "execution_count": 13
        }
      ]
    }
  ],
  "metadata": {
    "colab": {
      "provenance": [],
      "collapsed_sections": [
        "1reby5LjASLC",
        "lcWWAcPYBrH-",
        "U1dAhs_t2zHb",
        "qtFZCV7UBc5y"
      ],
      "mount_file_id": "1hMTjb9P94ffXnsCBkvKcBe41O6Zz_Ab2",
      "authorship_tag": "ABX9TyMuA5mpBkj0oIgvtz5Qcyt3",
      "include_colab_link": true
    },
    "kernelspec": {
      "display_name": "Python 3",
      "name": "python3"
    },
    "language_info": {
      "name": "python"
    }
  },
  "nbformat": 4,
  "nbformat_minor": 0
}
